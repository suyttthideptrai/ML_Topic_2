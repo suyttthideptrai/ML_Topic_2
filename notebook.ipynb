{
 "cells": [
  {
   "cell_type": "markdown",
   "metadata": {
    "id": "Cb4espuLKJiA"
   },
   "source": [
    "##### Copyright 2021 The TensorFlow Authors."
   ]
  },
  {
   "cell_type": "code",
   "execution_count": 1,
   "metadata": {
    "cellView": "form",
    "execution": {
     "iopub.execute_input": "2024-08-16T07:49:32.384401Z",
     "iopub.status.busy": "2024-08-16T07:49:32.384186Z",
     "iopub.status.idle": "2024-08-16T07:49:32.387925Z",
     "shell.execute_reply": "2024-08-16T07:49:32.387353Z"
    },
    "id": "DjZQV2njKJ3U"
   },
   "outputs": [],
   "source": [
    "#@title Licensed under the Apache License, Version 2.0 (the \"License\");\n",
    "# you may not use this file except in compliance with the License.\n",
    "# You may obtain a copy of the License at\n",
    "#\n",
    "# https://www.apache.org/licenses/LICENSE-2.0\n",
    "#\n",
    "# Unless required by applicable law or agreed to in writing, software\n",
    "# distributed under the License is distributed on an \"AS IS\" BASIS,\n",
    "# WITHOUT WARRANTIES OR CONDITIONS OF ANY KIND, either express or implied.\n",
    "# See the License for the specific language governing permissions and\n",
    "# limitations under the License."
   ]
  },
  {
   "cell_type": "markdown",
   "metadata": {
    "id": "mTL0TERThT6z"
   },
   "source": [
    "<table class=\"tfo-notebook-buttons\" align=\"left\">\n",
    "  <td>\n",
    "    <a target=\"_blank\" href=\"https://www.tensorflow.org/tutorials/audio/transfer_learning_audio\"><img src=\"https://www.tensorflow.org/images/tf_logo_32px.png\" />View on TensorFlow.org</a>\n",
    "  </td>\n",
    "  <td>\n",
    "    <a target=\"_blank\" href=\"https://colab.research.google.com/github/tensorflow/docs/blob/master/site/en/tutorials/audio/transfer_learning_audio.ipynb\"><img src=\"https://www.tensorflow.org/images/colab_logo_32px.png\" />Run in Google Colab</a>\n",
    "  </td>\n",
    "  <td>\n",
    "    <a target=\"_blank\" href=\"https://github.com/tensorflow/docs/blob/master/site/en/tutorials/audio/transfer_learning_audio.ipynb\"><img src=\"https://www.tensorflow.org/images/GitHub-Mark-32px.png\" />View on GitHub</a>\n",
    "  </td>\n",
    "  <td>\n",
    "    <a href=\"https://storage.googleapis.com/tensorflow_docs/docs/site/en/tutorials/audio/transfer_learning_audio.ipynb\"><img src=\"https://www.tensorflow.org/images/download_logo_32px.png\" />Download notebook</a>\n",
    "  </td>\n",
    "  <td>\n",
    "    <a href=\"https://tfhub.dev/google/yamnet/1\"><img src=\"https://www.tensorflow.org/images/hub_logo_32px.png\" />See TF Hub model</a>\n",
    "  </td>\n",
    "</table>"
   ]
  },
  {
   "cell_type": "markdown",
   "metadata": {
    "id": "K2madPFAGHb3"
   },
   "source": [
    "# Transfer learning with YAMNet for environmental sound classification\n",
    "\n",
    "[YAMNet](https://tfhub.dev/google/yamnet/1) is a pre-trained deep neural network that can predict audio events from [521 classes](https://github.com/tensorflow/models/blob/master/research/audioset/yamnet/yamnet_class_map.csv), such as laughter, barking, or a siren. \n",
    "\n",
    " In this tutorial you will learn how to:\n",
    "\n",
    "- Load and use the YAMNet model for inference.\n",
    "- Build a new model using the YAMNet embeddings to classify cat and dog sounds.\n",
    "- Evaluate and export your model.\n"
   ]
  },
  {
   "cell_type": "markdown",
   "metadata": {
    "id": "5Mdp2TpBh96Y"
   },
   "source": [
    "## Import TensorFlow and other libraries\n"
   ]
  },
  {
   "cell_type": "markdown",
   "metadata": {
    "id": "zCcKYqu_hvKe"
   },
   "source": [
    "Start by installing [TensorFlow I/O](https://www.tensorflow.org/io), which will make it easier for you to load audio files off disk."
   ]
  },
  {
   "cell_type": "code",
   "execution_count": 1,
   "metadata": {
    "execution": {
     "iopub.execute_input": "2024-08-16T07:49:32.391331Z",
     "iopub.status.busy": "2024-08-16T07:49:32.391105Z",
     "iopub.status.idle": "2024-08-16T07:50:04.250667Z",
     "shell.execute_reply": "2024-08-16T07:50:04.249596Z"
    },
    "id": "urBpRWDHTHHU"
   },
   "outputs": [
    {
     "name": "stdout",
     "output_type": "stream",
     "text": [
      "\u001b[31mERROR: Could not find a version that satisfies the requirement tensorflow==2.11.* (from versions: 2.16.0rc0, 2.16.1, 2.16.2, 2.17.0rc0, 2.17.0rc1, 2.17.0, 2.17.1, 2.18.0rc0, 2.18.0rc1, 2.18.0rc2, 2.18.0)\u001b[0m\u001b[31m\n",
      "\u001b[0m\u001b[31mERROR: No matching distribution found for tensorflow==2.11.*\u001b[0m\u001b[31m\n",
      "\u001b[0mNote: you may need to restart the kernel to use updated packages.\n",
      "\u001b[31mERROR: Ignored the following versions that require a different python version: 0.37.0 Requires-Python <3.12,>=3.7\u001b[0m\u001b[31m\n",
      "\u001b[0m\u001b[31mERROR: Could not find a version that satisfies the requirement tensorflow_io==0.28.* (from versions: 0.37.1)\u001b[0m\u001b[31m\n",
      "\u001b[0m\u001b[31mERROR: No matching distribution found for tensorflow_io==0.28.*\u001b[0m\u001b[31m\n",
      "\u001b[0mNote: you may need to restart the kernel to use updated packages.\n",
      "Requirement already satisfied: matplotlib in ./.venv/lib/python3.12/site-packages (3.9.3)\n",
      "Requirement already satisfied: contourpy>=1.0.1 in ./.venv/lib/python3.12/site-packages (from matplotlib) (1.3.1)\n",
      "Requirement already satisfied: cycler>=0.10 in ./.venv/lib/python3.12/site-packages (from matplotlib) (0.12.1)\n",
      "Requirement already satisfied: fonttools>=4.22.0 in ./.venv/lib/python3.12/site-packages (from matplotlib) (4.55.1)\n",
      "Requirement already satisfied: kiwisolver>=1.3.1 in ./.venv/lib/python3.12/site-packages (from matplotlib) (1.4.7)\n",
      "Requirement already satisfied: numpy>=1.23 in ./.venv/lib/python3.12/site-packages (from matplotlib) (2.0.2)\n",
      "Requirement already satisfied: packaging>=20.0 in ./.venv/lib/python3.12/site-packages (from matplotlib) (24.2)\n",
      "Requirement already satisfied: pillow>=8 in ./.venv/lib/python3.12/site-packages (from matplotlib) (11.0.0)\n",
      "Requirement already satisfied: pyparsing>=2.3.1 in ./.venv/lib/python3.12/site-packages (from matplotlib) (3.2.0)\n",
      "Requirement already satisfied: python-dateutil>=2.7 in ./.venv/lib/python3.12/site-packages (from matplotlib) (2.9.0.post0)\n",
      "Requirement already satisfied: six>=1.5 in ./.venv/lib/python3.12/site-packages (from python-dateutil>=2.7->matplotlib) (1.16.0)\n",
      "Note: you may need to restart the kernel to use updated packages.\n",
      "Requirement already satisfied: numpy in ./.venv/lib/python3.12/site-packages (2.0.2)\n",
      "Note: you may need to restart the kernel to use updated packages.\n",
      "Requirement already satisfied: pandas in ./.venv/lib/python3.12/site-packages (2.2.3)\n",
      "Requirement already satisfied: numpy>=1.26.0 in ./.venv/lib/python3.12/site-packages (from pandas) (2.0.2)\n",
      "Requirement already satisfied: python-dateutil>=2.8.2 in ./.venv/lib/python3.12/site-packages (from pandas) (2.9.0.post0)\n",
      "Requirement already satisfied: pytz>=2020.1 in ./.venv/lib/python3.12/site-packages (from pandas) (2024.2)\n",
      "Requirement already satisfied: tzdata>=2022.7 in ./.venv/lib/python3.12/site-packages (from pandas) (2024.2)\n",
      "Requirement already satisfied: six>=1.5 in ./.venv/lib/python3.12/site-packages (from python-dateutil>=2.8.2->pandas) (1.16.0)\n",
      "Note: you may need to restart the kernel to use updated packages.\n"
     ]
    }
   ],
   "source": [
    "%pip install -q \"tensorflow==2.11.*\"\n",
    "%pip install -q \"tensorflow_io==0.28.*\"\n",
    "# %pip install \"tensorflow_hub\"\n",
    "%pip install \"matplotlib\"\n",
    "%pip install \"numpy\"\n",
    "%pip install \"pandas\"\n"
   ]
  },
  {
   "cell_type": "markdown",
   "metadata": {},
   "source": [
    "Verify CUDA Availability"
   ]
  },
  {
   "cell_type": "code",
   "execution_count": 4,
   "metadata": {},
   "outputs": [
    {
     "name": "stdout",
     "output_type": "stream",
     "text": [
      "Sun Dec  8 17:19:07 2024       \n",
      "+-----------------------------------------------------------------------------------------+\n",
      "| NVIDIA-SMI 550.120                Driver Version: 550.120        CUDA Version: 12.4     |\n",
      "|-----------------------------------------+------------------------+----------------------+\n",
      "| GPU  Name                 Persistence-M | Bus-Id          Disp.A | Volatile Uncorr. ECC |\n",
      "| Fan  Temp   Perf          Pwr:Usage/Cap |           Memory-Usage | GPU-Util  Compute M. |\n",
      "|                                         |                        |               MIG M. |\n",
      "|=========================================+========================+======================|\n",
      "|   0  NVIDIA GeForce GTX 1650        Off |   00000000:01:00.0 Off |                  N/A |\n",
      "| N/A   42C    P0              1W /   50W |       6MiB /   4096MiB |      0%      Default |\n",
      "|                                         |                        |                  N/A |\n",
      "+-----------------------------------------+------------------------+----------------------+\n",
      "                                                                                         \n",
      "+-----------------------------------------------------------------------------------------+\n",
      "| Processes:                                                                              |\n",
      "|  GPU   GI   CI        PID   Type   Process name                              GPU Memory |\n",
      "|        ID   ID                                                               Usage      |\n",
      "|=========================================================================================|\n",
      "|    0   N/A  N/A      3133      G   /usr/lib/xorg/Xorg                              4MiB |\n",
      "+-----------------------------------------------------------------------------------------+\n"
     ]
    }
   ],
   "source": [
    "!nvidia-smi"
   ]
  },
  {
   "cell_type": "code",
   "execution_count": 2,
   "metadata": {
    "execution": {
     "iopub.execute_input": "2024-08-16T07:50:04.254963Z",
     "iopub.status.busy": "2024-08-16T07:50:04.254666Z",
     "iopub.status.idle": "2024-08-16T07:50:06.716149Z",
     "shell.execute_reply": "2024-08-16T07:50:06.715446Z"
    },
    "id": "7l3nqdWVF-kC"
   },
   "outputs": [
    {
     "name": "stderr",
     "output_type": "stream",
     "text": [
      "2024-12-08 17:37:27.209938: E external/local_xla/xla/stream_executor/cuda/cuda_fft.cc:477] Unable to register cuFFT factory: Attempting to register factory for plugin cuFFT when one has already been registered\n",
      "WARNING: All log messages before absl::InitializeLog() is called are written to STDERR\n",
      "E0000 00:00:1733654247.229314  114069 cuda_dnn.cc:8310] Unable to register cuDNN factory: Attempting to register factory for plugin cuDNN when one has already been registered\n",
      "E0000 00:00:1733654247.235101  114069 cuda_blas.cc:1418] Unable to register cuBLAS factory: Attempting to register factory for plugin cuBLAS when one has already been registered\n",
      "2024-12-08 17:37:27.255121: I tensorflow/core/platform/cpu_feature_guard.cc:210] This TensorFlow binary is optimized to use available CPU instructions in performance-critical operations.\n",
      "To enable the following instructions: AVX2 FMA, in other operations, rebuild TensorFlow with the appropriate compiler flags.\n",
      "/home/quylaptrinh/Projects/ML_Audio_Recognition/.venv/lib/python3.12/site-packages/tensorflow_io/python/ops/__init__.py:98: UserWarning: unable to load libtensorflow_io_plugins.so: unable to open file: libtensorflow_io_plugins.so, from paths: ['/home/quylaptrinh/Projects/ML_Audio_Recognition/.venv/lib/python3.12/site-packages/tensorflow_io/python/ops/libtensorflow_io_plugins.so']\n",
      "caused by: ['/home/quylaptrinh/Projects/ML_Audio_Recognition/.venv/lib/python3.12/site-packages/tensorflow_io/python/ops/libtensorflow_io_plugins.so: undefined symbol: _ZN3tsl8str_util8EndsWithESt17basic_string_viewIcSt11char_traitsIcEES4_']\n",
      "  warnings.warn(f\"unable to load libtensorflow_io_plugins.so: {e}\")\n",
      "/home/quylaptrinh/Projects/ML_Audio_Recognition/.venv/lib/python3.12/site-packages/tensorflow_io/python/ops/__init__.py:104: UserWarning: file system plugins are not loaded: unable to open file: libtensorflow_io.so, from paths: ['/home/quylaptrinh/Projects/ML_Audio_Recognition/.venv/lib/python3.12/site-packages/tensorflow_io/python/ops/libtensorflow_io.so']\n",
      "caused by: ['/home/quylaptrinh/Projects/ML_Audio_Recognition/.venv/lib/python3.12/site-packages/tensorflow_io/python/ops/libtensorflow_io.so: undefined symbol: _ZN3tsl8str_util9LowercaseB5cxx11ESt17basic_string_viewIcSt11char_traitsIcEE']\n",
      "  warnings.warn(f\"file system plugins are not loaded: {e}\")\n",
      "2024-12-08 17:37:29.852905: E external/local_xla/xla/stream_executor/cuda/cuda_driver.cc:152] failed call to cuInit: INTERNAL: CUDA error: Failed call to cuInit: CUDA_ERROR_UNKNOWN: unknown error\n",
      "2024-12-08 17:37:29.852951: I external/local_xla/xla/stream_executor/cuda/cuda_diagnostics.cc:137] retrieving CUDA diagnostic information for host: quylaptrinh\n",
      "2024-12-08 17:37:29.852967: I external/local_xla/xla/stream_executor/cuda/cuda_diagnostics.cc:144] hostname: quylaptrinh\n"
     ]
    },
    {
     "name": "stdout",
     "output_type": "stream",
     "text": [
      "<module 'tensorflow._api.v2.version' from '/home/quylaptrinh/Projects/ML_Audio_Recognition/.venv/lib/python3.12/site-packages/tensorflow/_api/v2/version/__init__.py'>\n",
      "GPU Available: []\n"
     ]
    },
    {
     "name": "stderr",
     "output_type": "stream",
     "text": [
      "2024-12-08 17:37:29.853133: I external/local_xla/xla/stream_executor/cuda/cuda_diagnostics.cc:168] libcuda reported version is: 550.120.0\n",
      "2024-12-08 17:37:29.853178: I external/local_xla/xla/stream_executor/cuda/cuda_diagnostics.cc:172] kernel reported version is: 550.120.0\n",
      "2024-12-08 17:37:29.853192: I external/local_xla/xla/stream_executor/cuda/cuda_diagnostics.cc:259] kernel version seems to match DSO: 550.120.0\n"
     ]
    }
   ],
   "source": [
    "# imports\n",
    "import os\n",
    "\n",
    "from IPython import display\n",
    "import matplotlib.pyplot as plt\n",
    "import numpy as np\n",
    "import pandas as pd\n",
    "\n",
    "import tensorflow as tf\n",
    "import tensorflow_hub as hub\n",
    "import tensorflow_io as tfio\n",
    "\n",
    "\n",
    "# verify version\n",
    "print(tf.version)\n",
    "\n",
    "# verify GPU vailability\n",
    "print(\"GPU Available:\", tf.config.experimental.list_physical_devices('GPU'))\n"
   ]
  },
  {
   "cell_type": "markdown",
   "metadata": {
    "id": "v9ZhybCnt_bM"
   },
   "source": [
    "## About YAMNet\n",
    "\n",
    "[YAMNet](https://github.com/tensorflow/models/tree/master/research/audioset/yamnet) is a pre-trained neural network that employs the [MobileNetV1](https://arxiv.org/abs/1704.04861) depthwise-separable convolution architecture. It can use an audio waveform as input and make independent predictions for each of the 521 audio events from the [AudioSet](http://g.co/audioset) corpus.\n",
    "\n",
    "Internally, the model extracts \"frames\" from the audio signal and processes batches of these frames. This version of the model uses frames that are 0.96 second long and extracts one frame every 0.48 seconds .\n",
    "\n",
    "The model accepts a 1-D float32 Tensor or NumPy array containing a waveform of arbitrary length, represented as single-channel (mono) 16 kHz samples in the range `[-1.0, +1.0]`. This tutorial contains code to help you convert WAV files into the supported format.\n",
    "\n",
    "The model returns 3 outputs, including the class scores, embeddings (which you will use for transfer learning), and the log mel [spectrogram](https://www.tensorflow.org/tutorials/audio/simple_audio#spectrogram). You can find more details [here](https://tfhub.dev/google/yamnet/1).\n",
    "\n",
    "One specific use of YAMNet is as a high-level feature extractor - the 1,024-dimensional embedding output. You will use the base (YAMNet) model's input features and feed them into your shallower model consisting of one hidden `tf.keras.layers.Dense` layer. Then, you will train the network on a small amount of data for audio classification _without_ requiring a lot of labeled data and training end-to-end. (This is similar to [transfer learning for image classification with TensorFlow Hub](https://www.tensorflow.org/tutorials/images/transfer_learning_with_hub) for more information.)\n",
    "\n",
    "First, you will test the model and see the results of classifying audio. You will then construct the data pre-processing pipeline.\n",
    "\n",
    "### Loading YAMNet from TensorFlow Hub\n",
    "\n",
    "You are going to use a pre-trained YAMNet from [Tensorflow Hub](https://tfhub.dev/) to extract the embeddings from the sound files.\n",
    "\n",
    "Loading a model from TensorFlow Hub is straightforward: choose the model, copy its URL, and use the `load` function.\n",
    "\n",
    "Note: to read the documentation of the model, use the model URL in your browser."
   ]
  },
  {
   "cell_type": "code",
   "execution_count": 3,
   "metadata": {
    "execution": {
     "iopub.execute_input": "2024-08-16T07:50:06.720287Z",
     "iopub.status.busy": "2024-08-16T07:50:06.719840Z",
     "iopub.status.idle": "2024-08-16T07:50:11.698005Z",
     "shell.execute_reply": "2024-08-16T07:50:11.697273Z"
    },
    "id": "06CWkBV5v3gr"
   },
   "outputs": [],
   "source": [
    "yamnet_model_handle = 'https://tfhub.dev/google/yamnet/1'\n",
    "yamnet_model = hub.load(yamnet_model_handle)"
   ]
  },
  {
   "cell_type": "markdown",
   "metadata": {
    "id": "GmrPJ0GHw9rr"
   },
   "source": [
    "With the model loaded, you can follow the [YAMNet basic usage tutorial](https://www.tensorflow.org/hub/tutorials/yamnet) and download a sample WAV file to run the inference.\n"
   ]
  },
  {
   "cell_type": "code",
   "execution_count": 4,
   "metadata": {
    "execution": {
     "iopub.execute_input": "2024-08-16T07:50:11.702570Z",
     "iopub.status.busy": "2024-08-16T07:50:11.702302Z",
     "iopub.status.idle": "2024-08-16T07:50:11.811422Z",
     "shell.execute_reply": "2024-08-16T07:50:11.810773Z"
    },
    "id": "C5i6xktEq00P"
   },
   "outputs": [
    {
     "name": "stdout",
     "output_type": "stream",
     "text": [
      "./test_data/miaow_16k.wav\n"
     ]
    }
   ],
   "source": [
    "testing_wav_file_name = tf.keras.utils.get_file('miaow_16k.wav',\n",
    "                                                'https://storage.googleapis.com/audioset/miaow_16k.wav',\n",
    "                                                cache_dir='./',\n",
    "                                                cache_subdir='test_data')\n",
    "\n",
    "print(testing_wav_file_name)"
   ]
  },
  {
   "cell_type": "markdown",
   "metadata": {
    "id": "mBm9y9iV2U_-"
   },
   "source": [
    "You will need a function to load audio files, which will also be used later when working with the training data. (Learn more about reading audio files and their labels in [Simple audio recognition](https://www.tensorflow.org/tutorials/audio/simple_audio#reading_audio_files_and_their_labels).\n",
    "\n",
    "Note: The returned `wav_data` from `load_wav_16k_mono` is already normalized to values in the `[-1.0, 1.0]` range (for more information, go to [YAMNet's documentation on TF Hub](https://tfhub.dev/google/yamnet/1))."
   ]
  },
  {
   "cell_type": "code",
   "execution_count": 5,
   "metadata": {
    "execution": {
     "iopub.execute_input": "2024-08-16T07:50:11.814583Z",
     "iopub.status.busy": "2024-08-16T07:50:11.814341Z",
     "iopub.status.idle": "2024-08-16T07:50:11.819324Z",
     "shell.execute_reply": "2024-08-16T07:50:11.818652Z"
    },
    "id": "Xwc9Wrdg2EtY"
   },
   "outputs": [],
   "source": [
    "# Utility functions for loading audio files and making sure the sample rate is correct.\n",
    "\n",
    "@tf.function\n",
    "def load_wav_16k_mono(filename):\n",
    "    \"\"\" Load a WAV file, convert it to a float tensor, resample to 16 kHz single-channel audio. \"\"\"\n",
    "    file_contents = tf.io.read_file(filename)\n",
    "    wav, sample_rate = tf.audio.decode_wav(\n",
    "          file_contents,\n",
    "          desired_channels=1)\n",
    "    wav = tf.squeeze(wav, axis=-1)\n",
    "    sample_rate = tf.cast(sample_rate, dtype=tf.int64)\n",
    "    wav = tfio.audio.resample(wav, rate_in=sample_rate, rate_out=16000)\n",
    "    return wav"
   ]
  },
  {
   "cell_type": "code",
   "execution_count": 6,
   "metadata": {
    "execution": {
     "iopub.execute_input": "2024-08-16T07:50:11.822192Z",
     "iopub.status.busy": "2024-08-16T07:50:11.821959Z",
     "iopub.status.idle": "2024-08-16T07:50:12.727924Z",
     "shell.execute_reply": "2024-08-16T07:50:12.727244Z"
    },
    "id": "FRqpjkwB0Jjw"
   },
   "outputs": [
    {
     "name": "stdout",
     "output_type": "stream",
     "text": [
      "WARNING:tensorflow:AutoGraph could not transform <function resample at 0x77873a0a5f80> and will run it as-is.\n",
      "Please report this to the TensorFlow team. When filing the bug, set the verbosity to 10 (on Linux, `export AUTOGRAPH_VERBOSITY=10`) and attach the full output.\n",
      "Cause: unable to open file: libtensorflow_io.so, from paths: ['/home/quylaptrinh/Projects/ML_Audio_Recognition/.venv/lib/python3.12/site-packages/tensorflow_io/python/ops/libtensorflow_io.so']\n",
      "caused by: ['/home/quylaptrinh/Projects/ML_Audio_Recognition/.venv/lib/python3.12/site-packages/tensorflow_io/python/ops/libtensorflow_io.so: undefined symbol: _ZN3tsl8str_util9LowercaseB5cxx11ESt17basic_string_viewIcSt11char_traitsIcEE']\n",
      "To silence this warning, decorate the function with @tf.autograph.experimental.do_not_convert\n"
     ]
    },
    {
     "name": "stderr",
     "output_type": "stream",
     "text": [
      "WARNING:tensorflow:AutoGraph could not transform <function resample at 0x77873a0a5f80> and will run it as-is.\n",
      "Please report this to the TensorFlow team. When filing the bug, set the verbosity to 10 (on Linux, `export AUTOGRAPH_VERBOSITY=10`) and attach the full output.\n",
      "Cause: unable to open file: libtensorflow_io.so, from paths: ['/home/quylaptrinh/Projects/ML_Audio_Recognition/.venv/lib/python3.12/site-packages/tensorflow_io/python/ops/libtensorflow_io.so']\n",
      "caused by: ['/home/quylaptrinh/Projects/ML_Audio_Recognition/.venv/lib/python3.12/site-packages/tensorflow_io/python/ops/libtensorflow_io.so: undefined symbol: _ZN3tsl8str_util9LowercaseB5cxx11ESt17basic_string_viewIcSt11char_traitsIcEE']\n",
      "To silence this warning, decorate the function with @tf.autograph.experimental.do_not_convert\n"
     ]
    },
    {
     "name": "stdout",
     "output_type": "stream",
     "text": [
      "WARNING: AutoGraph could not transform <function resample at 0x77873a0a5f80> and will run it as-is.\n",
      "Please report this to the TensorFlow team. When filing the bug, set the verbosity to 10 (on Linux, `export AUTOGRAPH_VERBOSITY=10`) and attach the full output.\n",
      "Cause: unable to open file: libtensorflow_io.so, from paths: ['/home/quylaptrinh/Projects/ML_Audio_Recognition/.venv/lib/python3.12/site-packages/tensorflow_io/python/ops/libtensorflow_io.so']\n",
      "caused by: ['/home/quylaptrinh/Projects/ML_Audio_Recognition/.venv/lib/python3.12/site-packages/tensorflow_io/python/ops/libtensorflow_io.so: undefined symbol: _ZN3tsl8str_util9LowercaseB5cxx11ESt17basic_string_viewIcSt11char_traitsIcEE']\n",
      "To silence this warning, decorate the function with @tf.autograph.experimental.do_not_convert\n"
     ]
    },
    {
     "ename": "NotImplementedError",
     "evalue": "in user code:\n\n    File \"/tmp/ipykernel_114069/2893689446.py\", line 12, in load_wav_16k_mono  *\n        wav = tfio.audio.resample(wav, rate_in=sample_rate, rate_out=16000)\n    File \"/home/quylaptrinh/Projects/ML_Audio_Recognition/.venv/lib/python3.12/site-packages/tensorflow_io/python/ops/audio_ops.py\", line 469, in resample  **\n        value = tf.vectorized_map(f, input)\n    File \"/home/quylaptrinh/Projects/ML_Audio_Recognition/.venv/lib/python3.12/site-packages/tensorflow_io/python/ops/audio_ops.py\", line 465, in f\n        return core_ops.io_audio_resample(\n    File \"/home/quylaptrinh/Projects/ML_Audio_Recognition/.venv/lib/python3.12/site-packages/tensorflow_io/python/ops/__init__.py\", line 88, in __getattr__\n        return getattr(self._load(), attrb)\n    File \"/home/quylaptrinh/Projects/ML_Audio_Recognition/.venv/lib/python3.12/site-packages/tensorflow_io/python/ops/__init__.py\", line 84, in _load\n        self._mod = _load_library(self._library)\n    File \"/home/quylaptrinh/Projects/ML_Audio_Recognition/.venv/lib/python3.12/site-packages/tensorflow_io/python/ops/__init__.py\", line 69, in _load_library\n        raise NotImplementedError(\n\n    NotImplementedError: unable to open file: libtensorflow_io.so, from paths: ['/home/quylaptrinh/Projects/ML_Audio_Recognition/.venv/lib/python3.12/site-packages/tensorflow_io/python/ops/libtensorflow_io.so']\n    caused by: ['/home/quylaptrinh/Projects/ML_Audio_Recognition/.venv/lib/python3.12/site-packages/tensorflow_io/python/ops/libtensorflow_io.so: undefined symbol: _ZN3tsl8str_util9LowercaseB5cxx11ESt17basic_string_viewIcSt11char_traitsIcEE']\n",
     "output_type": "error",
     "traceback": [
      "\u001b[0;31m---------------------------------------------------------------------------\u001b[0m",
      "\u001b[0;31mNotImplementedError\u001b[0m                       Traceback (most recent call last)",
      "Cell \u001b[0;32mIn[6], line 1\u001b[0m\n\u001b[0;32m----> 1\u001b[0m testing_wav_data \u001b[38;5;241m=\u001b[39m \u001b[43mload_wav_16k_mono\u001b[49m\u001b[43m(\u001b[49m\u001b[43mtesting_wav_file_name\u001b[49m\u001b[43m)\u001b[49m\n\u001b[1;32m      3\u001b[0m _ \u001b[38;5;241m=\u001b[39m plt\u001b[38;5;241m.\u001b[39mplot(testing_wav_data)\n\u001b[1;32m      5\u001b[0m \u001b[38;5;66;03m# Play the audio file.\u001b[39;00m\n",
      "File \u001b[0;32m~/Projects/ML_Audio_Recognition/.venv/lib/python3.12/site-packages/tensorflow/python/util/traceback_utils.py:153\u001b[0m, in \u001b[0;36mfilter_traceback.<locals>.error_handler\u001b[0;34m(*args, **kwargs)\u001b[0m\n\u001b[1;32m    151\u001b[0m \u001b[38;5;28;01mexcept\u001b[39;00m \u001b[38;5;167;01mException\u001b[39;00m \u001b[38;5;28;01mas\u001b[39;00m e:\n\u001b[1;32m    152\u001b[0m   filtered_tb \u001b[38;5;241m=\u001b[39m _process_traceback_frames(e\u001b[38;5;241m.\u001b[39m__traceback__)\n\u001b[0;32m--> 153\u001b[0m   \u001b[38;5;28;01mraise\u001b[39;00m e\u001b[38;5;241m.\u001b[39mwith_traceback(filtered_tb) \u001b[38;5;28;01mfrom\u001b[39;00m \u001b[38;5;28;01mNone\u001b[39;00m\n\u001b[1;32m    154\u001b[0m \u001b[38;5;28;01mfinally\u001b[39;00m:\n\u001b[1;32m    155\u001b[0m   \u001b[38;5;28;01mdel\u001b[39;00m filtered_tb\n",
      "File \u001b[0;32m/tmp/__autograph_generated_filejz8gpt5u.py:15\u001b[0m, in \u001b[0;36mouter_factory.<locals>.inner_factory.<locals>.tf__load_wav_16k_mono\u001b[0;34m(filename)\u001b[0m\n\u001b[1;32m     13\u001b[0m wav \u001b[38;5;241m=\u001b[39m ag__\u001b[38;5;241m.\u001b[39mconverted_call(ag__\u001b[38;5;241m.\u001b[39mld(tf)\u001b[38;5;241m.\u001b[39msqueeze, (ag__\u001b[38;5;241m.\u001b[39mld(wav),), \u001b[38;5;28mdict\u001b[39m(axis\u001b[38;5;241m=\u001b[39m\u001b[38;5;241m-\u001b[39m\u001b[38;5;241m1\u001b[39m), fscope)\n\u001b[1;32m     14\u001b[0m sample_rate \u001b[38;5;241m=\u001b[39m ag__\u001b[38;5;241m.\u001b[39mconverted_call(ag__\u001b[38;5;241m.\u001b[39mld(tf)\u001b[38;5;241m.\u001b[39mcast, (ag__\u001b[38;5;241m.\u001b[39mld(sample_rate),), \u001b[38;5;28mdict\u001b[39m(dtype\u001b[38;5;241m=\u001b[39mag__\u001b[38;5;241m.\u001b[39mld(tf)\u001b[38;5;241m.\u001b[39mint64), fscope)\n\u001b[0;32m---> 15\u001b[0m wav \u001b[38;5;241m=\u001b[39m \u001b[43mag__\u001b[49m\u001b[38;5;241;43m.\u001b[39;49m\u001b[43mconverted_call\u001b[49m\u001b[43m(\u001b[49m\u001b[43mag__\u001b[49m\u001b[38;5;241;43m.\u001b[39;49m\u001b[43mld\u001b[49m\u001b[43m(\u001b[49m\u001b[43mtfio\u001b[49m\u001b[43m)\u001b[49m\u001b[38;5;241;43m.\u001b[39;49m\u001b[43maudio\u001b[49m\u001b[38;5;241;43m.\u001b[39;49m\u001b[43mresample\u001b[49m\u001b[43m,\u001b[49m\u001b[43m \u001b[49m\u001b[43m(\u001b[49m\u001b[43mag__\u001b[49m\u001b[38;5;241;43m.\u001b[39;49m\u001b[43mld\u001b[49m\u001b[43m(\u001b[49m\u001b[43mwav\u001b[49m\u001b[43m)\u001b[49m\u001b[43m,\u001b[49m\u001b[43m)\u001b[49m\u001b[43m,\u001b[49m\u001b[43m \u001b[49m\u001b[38;5;28;43mdict\u001b[39;49m\u001b[43m(\u001b[49m\u001b[43mrate_in\u001b[49m\u001b[38;5;241;43m=\u001b[39;49m\u001b[43mag__\u001b[49m\u001b[38;5;241;43m.\u001b[39;49m\u001b[43mld\u001b[49m\u001b[43m(\u001b[49m\u001b[43msample_rate\u001b[49m\u001b[43m)\u001b[49m\u001b[43m,\u001b[49m\u001b[43m \u001b[49m\u001b[43mrate_out\u001b[49m\u001b[38;5;241;43m=\u001b[39;49m\u001b[38;5;241;43m16000\u001b[39;49m\u001b[43m)\u001b[49m\u001b[43m,\u001b[49m\u001b[43m \u001b[49m\u001b[43mfscope\u001b[49m\u001b[43m)\u001b[49m\n\u001b[1;32m     16\u001b[0m \u001b[38;5;28;01mtry\u001b[39;00m:\n\u001b[1;32m     17\u001b[0m     do_return \u001b[38;5;241m=\u001b[39m \u001b[38;5;28;01mTrue\u001b[39;00m\n",
      "File \u001b[0;32m~/Projects/ML_Audio_Recognition/.venv/lib/python3.12/site-packages/tensorflow_io/python/ops/audio_ops.py:469\u001b[0m, in \u001b[0;36mresample\u001b[0;34m(input, rate_in, rate_out, name)\u001b[0m\n\u001b[1;32m    464\u001b[0m \u001b[38;5;28;01mdef\u001b[39;00m \u001b[38;5;21mf\u001b[39m(i):\n\u001b[1;32m    465\u001b[0m     \u001b[38;5;28;01mreturn\u001b[39;00m core_ops\u001b[38;5;241m.\u001b[39mio_audio_resample(\n\u001b[1;32m    466\u001b[0m         i, rate_in\u001b[38;5;241m=\u001b[39mrate_in, rate_out\u001b[38;5;241m=\u001b[39mrate_out, name\u001b[38;5;241m=\u001b[39mname\n\u001b[1;32m    467\u001b[0m     )\n\u001b[0;32m--> 469\u001b[0m value \u001b[38;5;241m=\u001b[39m \u001b[43mtf\u001b[49m\u001b[38;5;241;43m.\u001b[39;49m\u001b[43mvectorized_map\u001b[49m\u001b[43m(\u001b[49m\u001b[43mf\u001b[49m\u001b[43m,\u001b[49m\u001b[43m \u001b[49m\u001b[38;5;28;43minput\u001b[39;49m\u001b[43m)\u001b[49m\n\u001b[1;32m    471\u001b[0m \u001b[38;5;28;01mdef\u001b[39;00m \u001b[38;5;21mg1\u001b[39m():\n\u001b[1;32m    472\u001b[0m     \u001b[38;5;28;01mreturn\u001b[39;00m tf\u001b[38;5;241m.\u001b[39msqueeze(value, [\u001b[38;5;241m0\u001b[39m, \u001b[38;5;241m-\u001b[39m\u001b[38;5;241m1\u001b[39m])\n",
      "File \u001b[0;32m~/Projects/ML_Audio_Recognition/.venv/lib/python3.12/site-packages/tensorflow_io/python/ops/audio_ops.py:465\u001b[0m, in \u001b[0;36mresample.<locals>.f\u001b[0;34m(i)\u001b[0m\n\u001b[1;32m    464\u001b[0m \u001b[38;5;28;01mdef\u001b[39;00m \u001b[38;5;21mf\u001b[39m(i):\n\u001b[0;32m--> 465\u001b[0m     \u001b[38;5;28;01mreturn\u001b[39;00m \u001b[43mcore_ops\u001b[49m\u001b[38;5;241;43m.\u001b[39;49m\u001b[43mio_audio_resample\u001b[49m(\n\u001b[1;32m    466\u001b[0m         i, rate_in\u001b[38;5;241m=\u001b[39mrate_in, rate_out\u001b[38;5;241m=\u001b[39mrate_out, name\u001b[38;5;241m=\u001b[39mname\n\u001b[1;32m    467\u001b[0m     )\n",
      "File \u001b[0;32m~/Projects/ML_Audio_Recognition/.venv/lib/python3.12/site-packages/tensorflow_io/python/ops/__init__.py:88\u001b[0m, in \u001b[0;36mLazyLoader.__getattr__\u001b[0;34m(self, attrb)\u001b[0m\n\u001b[1;32m     87\u001b[0m \u001b[38;5;28;01mdef\u001b[39;00m \u001b[38;5;21m__getattr__\u001b[39m(\u001b[38;5;28mself\u001b[39m, attrb):\n\u001b[0;32m---> 88\u001b[0m     \u001b[38;5;28;01mreturn\u001b[39;00m \u001b[38;5;28mgetattr\u001b[39m(\u001b[38;5;28;43mself\u001b[39;49m\u001b[38;5;241;43m.\u001b[39;49m\u001b[43m_load\u001b[49m\u001b[43m(\u001b[49m\u001b[43m)\u001b[49m, attrb)\n",
      "File \u001b[0;32m~/Projects/ML_Audio_Recognition/.venv/lib/python3.12/site-packages/tensorflow_io/python/ops/__init__.py:84\u001b[0m, in \u001b[0;36mLazyLoader._load\u001b[0;34m(self)\u001b[0m\n\u001b[1;32m     82\u001b[0m \u001b[38;5;28;01mdef\u001b[39;00m \u001b[38;5;21m_load\u001b[39m(\u001b[38;5;28mself\u001b[39m):\n\u001b[1;32m     83\u001b[0m     \u001b[38;5;28;01mif\u001b[39;00m \u001b[38;5;28mself\u001b[39m\u001b[38;5;241m.\u001b[39m_mod \u001b[38;5;129;01mis\u001b[39;00m \u001b[38;5;28;01mNone\u001b[39;00m:\n\u001b[0;32m---> 84\u001b[0m         \u001b[38;5;28mself\u001b[39m\u001b[38;5;241m.\u001b[39m_mod \u001b[38;5;241m=\u001b[39m \u001b[43m_load_library\u001b[49m\u001b[43m(\u001b[49m\u001b[38;5;28;43mself\u001b[39;49m\u001b[38;5;241;43m.\u001b[39;49m\u001b[43m_library\u001b[49m\u001b[43m)\u001b[49m\n\u001b[1;32m     85\u001b[0m     \u001b[38;5;28;01mreturn\u001b[39;00m \u001b[38;5;28mself\u001b[39m\u001b[38;5;241m.\u001b[39m_mod\n",
      "File \u001b[0;32m~/Projects/ML_Audio_Recognition/.venv/lib/python3.12/site-packages/tensorflow_io/python/ops/__init__.py:69\u001b[0m, in \u001b[0;36m_load_library\u001b[0;34m(filename, lib)\u001b[0m\n\u001b[1;32m     67\u001b[0m     \u001b[38;5;28;01mexcept\u001b[39;00m (tf\u001b[38;5;241m.\u001b[39merrors\u001b[38;5;241m.\u001b[39mNotFoundError, \u001b[38;5;167;01mOSError\u001b[39;00m) \u001b[38;5;28;01mas\u001b[39;00m e:\n\u001b[1;32m     68\u001b[0m         errs\u001b[38;5;241m.\u001b[39mappend(\u001b[38;5;28mstr\u001b[39m(e))\n\u001b[0;32m---> 69\u001b[0m \u001b[38;5;28;01mraise\u001b[39;00m \u001b[38;5;167;01mNotImplementedError\u001b[39;00m(\n\u001b[1;32m     70\u001b[0m     \u001b[38;5;124m\"\u001b[39m\u001b[38;5;124munable to open file: \u001b[39m\u001b[38;5;124m\"\u001b[39m\n\u001b[1;32m     71\u001b[0m     \u001b[38;5;241m+\u001b[39m \u001b[38;5;124mf\u001b[39m\u001b[38;5;124m\"\u001b[39m\u001b[38;5;132;01m{\u001b[39;00mfilename\u001b[38;5;132;01m}\u001b[39;00m\u001b[38;5;124m, from paths: \u001b[39m\u001b[38;5;132;01m{\u001b[39;00mfilenames\u001b[38;5;132;01m}\u001b[39;00m\u001b[38;5;130;01m\\n\u001b[39;00m\u001b[38;5;124mcaused by: \u001b[39m\u001b[38;5;132;01m{\u001b[39;00merrs\u001b[38;5;132;01m}\u001b[39;00m\u001b[38;5;124m\"\u001b[39m\n\u001b[1;32m     72\u001b[0m )\n",
      "\u001b[0;31mNotImplementedError\u001b[0m: in user code:\n\n    File \"/tmp/ipykernel_114069/2893689446.py\", line 12, in load_wav_16k_mono  *\n        wav = tfio.audio.resample(wav, rate_in=sample_rate, rate_out=16000)\n    File \"/home/quylaptrinh/Projects/ML_Audio_Recognition/.venv/lib/python3.12/site-packages/tensorflow_io/python/ops/audio_ops.py\", line 469, in resample  **\n        value = tf.vectorized_map(f, input)\n    File \"/home/quylaptrinh/Projects/ML_Audio_Recognition/.venv/lib/python3.12/site-packages/tensorflow_io/python/ops/audio_ops.py\", line 465, in f\n        return core_ops.io_audio_resample(\n    File \"/home/quylaptrinh/Projects/ML_Audio_Recognition/.venv/lib/python3.12/site-packages/tensorflow_io/python/ops/__init__.py\", line 88, in __getattr__\n        return getattr(self._load(), attrb)\n    File \"/home/quylaptrinh/Projects/ML_Audio_Recognition/.venv/lib/python3.12/site-packages/tensorflow_io/python/ops/__init__.py\", line 84, in _load\n        self._mod = _load_library(self._library)\n    File \"/home/quylaptrinh/Projects/ML_Audio_Recognition/.venv/lib/python3.12/site-packages/tensorflow_io/python/ops/__init__.py\", line 69, in _load_library\n        raise NotImplementedError(\n\n    NotImplementedError: unable to open file: libtensorflow_io.so, from paths: ['/home/quylaptrinh/Projects/ML_Audio_Recognition/.venv/lib/python3.12/site-packages/tensorflow_io/python/ops/libtensorflow_io.so']\n    caused by: ['/home/quylaptrinh/Projects/ML_Audio_Recognition/.venv/lib/python3.12/site-packages/tensorflow_io/python/ops/libtensorflow_io.so: undefined symbol: _ZN3tsl8str_util9LowercaseB5cxx11ESt17basic_string_viewIcSt11char_traitsIcEE']\n"
     ]
    }
   ],
   "source": [
    "testing_wav_data = load_wav_16k_mono(testing_wav_file_name)\n",
    "\n",
    "_ = plt.plot(testing_wav_data)\n",
    "\n",
    "# Play the audio file.\n",
    "display.Audio(testing_wav_data, rate=16000)"
   ]
  },
  {
   "cell_type": "markdown",
   "metadata": {
    "id": "6z6rqlEz20YB"
   },
   "source": [
    "### Load the class mapping\n",
    "\n",
    "It's important to load the class names that YAMNet is able to recognize. The mapping file is present at `yamnet_model.class_map_path()` in the CSV format."
   ]
  },
  {
   "cell_type": "code",
   "execution_count": 8,
   "metadata": {
    "execution": {
     "iopub.execute_input": "2024-08-16T07:50:12.731557Z",
     "iopub.status.busy": "2024-08-16T07:50:12.731307Z",
     "iopub.status.idle": "2024-08-16T07:50:12.747972Z",
     "shell.execute_reply": "2024-08-16T07:50:12.747289Z"
    },
    "id": "6Gyj23e_3Mgr"
   },
   "outputs": [
    {
     "name": "stdout",
     "output_type": "stream",
     "text": [
      "Speech\n",
      "Child speech, kid speaking\n",
      "Conversation\n",
      "Narration, monologue\n",
      "Babbling\n",
      "Speech synthesizer\n",
      "Shout\n",
      "Bellow\n",
      "Whoop\n",
      "Yell\n",
      "Children shouting\n",
      "Screaming\n",
      "Whispering\n",
      "Laughter\n",
      "Baby laughter\n",
      "Giggle\n",
      "Snicker\n",
      "Belly laugh\n",
      "Chuckle, chortle\n",
      "Crying, sobbing\n",
      "...\n"
     ]
    }
   ],
   "source": [
    "class_map_path = yamnet_model.class_map_path().numpy().decode('utf-8')\n",
    "class_names =list(pd.read_csv(class_map_path)['display_name'])\n",
    "\n",
    "for name in class_names[:20]:\n",
    "  print(name)\n",
    "print('...')"
   ]
  },
  {
   "cell_type": "markdown",
   "metadata": {
    "id": "5xbycDnT40u0"
   },
   "source": [
    "### Run inference\n",
    "\n",
    "YAMNet provides frame-level class-scores (i.e., 521 scores for every frame). In order to determine clip-level predictions, the scores can be aggregated per-class across frames (e.g., using mean or max aggregation). This is done below by `scores_np.mean(axis=0)`. Finally, to find the top-scored class at the clip-level, you take the maximum of the 521 aggregated scores.\n"
   ]
  },
  {
   "cell_type": "code",
   "execution_count": 9,
   "metadata": {
    "execution": {
     "iopub.execute_input": "2024-08-16T07:50:12.751819Z",
     "iopub.status.busy": "2024-08-16T07:50:12.751242Z",
     "iopub.status.idle": "2024-08-16T07:50:13.035232Z",
     "shell.execute_reply": "2024-08-16T07:50:13.034415Z"
    },
    "id": "NT0otp-A4Y3u"
   },
   "outputs": [
    {
     "name": "stdout",
     "output_type": "stream",
     "text": [
      "The main sound is: Animal\n",
      "The embeddings shape: (13, 1024)\n"
     ]
    }
   ],
   "source": [
    "scores, embeddings, spectrogram = yamnet_model(testing_wav_data)\n",
    "class_scores = tf.reduce_mean(scores, axis=0)\n",
    "top_class = tf.math.argmax(class_scores)\n",
    "inferred_class = class_names[top_class]\n",
    "\n",
    "print(f'The main sound is: {inferred_class}')\n",
    "print(f'The embeddings shape: {embeddings.shape}')"
   ]
  },
  {
   "cell_type": "markdown",
   "metadata": {
    "id": "YBaLNg5H5IWa"
   },
   "source": [
    "Note: The model correctly inferred an animal sound. Your goal in this tutorial is to increase the model's accuracy for specific classes. Also, notice that the model generated 13 embeddings, 1 per frame."
   ]
  },
  {
   "cell_type": "markdown",
   "metadata": {
    "id": "fmthELBg1A2-"
   },
   "source": [
    "## ESC-50 dataset\n",
    "\n",
    "The [ESC-50 dataset](https://github.com/karolpiczak/ESC-50#repository-content) ([Piczak, 2015](https://www.karolpiczak.com/papers/Piczak2015-ESC-Dataset.pdf)) is a labeled collection of 2,000 five-second long environmental audio recordings. The dataset consists of 50 classes, with 40 examples per class.\n",
    "\n",
    "Download the dataset and extract it. \n"
   ]
  },
  {
   "cell_type": "code",
   "execution_count": 10,
   "metadata": {
    "execution": {
     "iopub.execute_input": "2024-08-16T07:50:13.039340Z",
     "iopub.status.busy": "2024-08-16T07:50:13.038651Z",
     "iopub.status.idle": "2024-08-16T07:50:59.494905Z",
     "shell.execute_reply": "2024-08-16T07:50:59.494073Z"
    },
    "id": "MWobqK8JmZOU"
   },
   "outputs": [
    {
     "name": "stdout",
     "output_type": "stream",
     "text": [
      "Downloading data from https://github.com/karoldvl/ESC-50/archive/master.zip\n"
     ]
    },
    {
     "name": "stdout",
     "output_type": "stream",
     "text": [
      "\r\n",
      "   8192/Unknown - 0s 0us/step"
     ]
    }
   ],
   "source": [
    "_ = tf.keras.utils.get_file('esc-50.zip',\n",
    "                        'https://github.com/karoldvl/ESC-50/archive/master.zip',\n",
    "                        cache_dir='./',\n",
    "                        cache_subdir='datasets',\n",
    "                        extract=True)"
   ]
  },
  {
   "cell_type": "markdown",
   "metadata": {
    "id": "qcruxiuX1cO5"
   },
   "source": [
    "### Explore the data\n",
    "\n",
    "The metadata for each file is specified in the csv file at `./datasets/ESC-50-master/meta/esc50.csv`\n",
    "\n",
    "and all the audio files are in `./datasets/ESC-50-master/audio/`\n",
    "\n",
    "You will create a pandas `DataFrame` with the mapping and use that to have a clearer view of the data.\n"
   ]
  },
  {
   "cell_type": "code",
   "execution_count": 11,
   "metadata": {
    "execution": {
     "iopub.execute_input": "2024-08-16T07:50:59.499315Z",
     "iopub.status.busy": "2024-08-16T07:50:59.499033Z",
     "iopub.status.idle": "2024-08-16T07:50:59.512237Z",
     "shell.execute_reply": "2024-08-16T07:50:59.511604Z"
    },
    "id": "jwmLygPrMAbH"
   },
   "outputs": [
    {
     "data": {
      "text/html": [
       "<div>\n",
       "<style scoped>\n",
       "    .dataframe tbody tr th:only-of-type {\n",
       "        vertical-align: middle;\n",
       "    }\n",
       "\n",
       "    .dataframe tbody tr th {\n",
       "        vertical-align: top;\n",
       "    }\n",
       "\n",
       "    .dataframe thead th {\n",
       "        text-align: right;\n",
       "    }\n",
       "</style>\n",
       "<table border=\"1\" class=\"dataframe\">\n",
       "  <thead>\n",
       "    <tr style=\"text-align: right;\">\n",
       "      <th></th>\n",
       "      <th>filename</th>\n",
       "      <th>fold</th>\n",
       "      <th>target</th>\n",
       "      <th>category</th>\n",
       "      <th>esc10</th>\n",
       "      <th>src_file</th>\n",
       "      <th>take</th>\n",
       "    </tr>\n",
       "  </thead>\n",
       "  <tbody>\n",
       "    <tr>\n",
       "      <th>0</th>\n",
       "      <td>1-100032-A-0.wav</td>\n",
       "      <td>1</td>\n",
       "      <td>0</td>\n",
       "      <td>dog</td>\n",
       "      <td>True</td>\n",
       "      <td>100032</td>\n",
       "      <td>A</td>\n",
       "    </tr>\n",
       "    <tr>\n",
       "      <th>1</th>\n",
       "      <td>1-100038-A-14.wav</td>\n",
       "      <td>1</td>\n",
       "      <td>14</td>\n",
       "      <td>chirping_birds</td>\n",
       "      <td>False</td>\n",
       "      <td>100038</td>\n",
       "      <td>A</td>\n",
       "    </tr>\n",
       "    <tr>\n",
       "      <th>2</th>\n",
       "      <td>1-100210-A-36.wav</td>\n",
       "      <td>1</td>\n",
       "      <td>36</td>\n",
       "      <td>vacuum_cleaner</td>\n",
       "      <td>False</td>\n",
       "      <td>100210</td>\n",
       "      <td>A</td>\n",
       "    </tr>\n",
       "    <tr>\n",
       "      <th>3</th>\n",
       "      <td>1-100210-B-36.wav</td>\n",
       "      <td>1</td>\n",
       "      <td>36</td>\n",
       "      <td>vacuum_cleaner</td>\n",
       "      <td>False</td>\n",
       "      <td>100210</td>\n",
       "      <td>B</td>\n",
       "    </tr>\n",
       "    <tr>\n",
       "      <th>4</th>\n",
       "      <td>1-101296-A-19.wav</td>\n",
       "      <td>1</td>\n",
       "      <td>19</td>\n",
       "      <td>thunderstorm</td>\n",
       "      <td>False</td>\n",
       "      <td>101296</td>\n",
       "      <td>A</td>\n",
       "    </tr>\n",
       "  </tbody>\n",
       "</table>\n",
       "</div>"
      ],
      "text/plain": [
       "            filename  fold  target        category  esc10  src_file take\n",
       "0   1-100032-A-0.wav     1       0             dog   True    100032    A\n",
       "1  1-100038-A-14.wav     1      14  chirping_birds  False    100038    A\n",
       "2  1-100210-A-36.wav     1      36  vacuum_cleaner  False    100210    A\n",
       "3  1-100210-B-36.wav     1      36  vacuum_cleaner  False    100210    B\n",
       "4  1-101296-A-19.wav     1      19    thunderstorm  False    101296    A"
      ]
     },
     "execution_count": 11,
     "metadata": {},
     "output_type": "execute_result"
    }
   ],
   "source": [
    "esc50_csv = './datasets/ESC-50-master/meta/esc50.csv'\n",
    "base_data_path = './datasets/ESC-50-master/audio/'\n",
    "\n",
    "pd_data = pd.read_csv(esc50_csv)\n",
    "pd_data.head()"
   ]
  },
  {
   "cell_type": "markdown",
   "metadata": {
    "id": "7d4rHBEQ2QAU"
   },
   "source": [
    "### Filter the data\n",
    "\n",
    "Now that the data is stored in the `DataFrame`, apply some transformations:\n",
    "\n",
    "- Filter out rows and use only the selected classes - `dog` and `cat`. If you want to use any other classes, this is where you can choose them.\n",
    "- Amend the filename to have the full path. This will make loading easier later.\n",
    "- Change targets to be within a specific range. In this example, `dog` will remain at `0`, but `cat` will become `1` instead of its original value of `5`."
   ]
  },
  {
   "cell_type": "code",
   "execution_count": 12,
   "metadata": {
    "execution": {
     "iopub.execute_input": "2024-08-16T07:50:59.515716Z",
     "iopub.status.busy": "2024-08-16T07:50:59.515159Z",
     "iopub.status.idle": "2024-08-16T07:50:59.528342Z",
     "shell.execute_reply": "2024-08-16T07:50:59.527769Z"
    },
    "id": "tFnEoQjgs14I"
   },
   "outputs": [
    {
     "data": {
      "text/html": [
       "<div>\n",
       "<style scoped>\n",
       "    .dataframe tbody tr th:only-of-type {\n",
       "        vertical-align: middle;\n",
       "    }\n",
       "\n",
       "    .dataframe tbody tr th {\n",
       "        vertical-align: top;\n",
       "    }\n",
       "\n",
       "    .dataframe thead th {\n",
       "        text-align: right;\n",
       "    }\n",
       "</style>\n",
       "<table border=\"1\" class=\"dataframe\">\n",
       "  <thead>\n",
       "    <tr style=\"text-align: right;\">\n",
       "      <th></th>\n",
       "      <th>filename</th>\n",
       "      <th>fold</th>\n",
       "      <th>target</th>\n",
       "      <th>category</th>\n",
       "      <th>esc10</th>\n",
       "      <th>src_file</th>\n",
       "      <th>take</th>\n",
       "    </tr>\n",
       "  </thead>\n",
       "  <tbody>\n",
       "    <tr>\n",
       "      <th>0</th>\n",
       "      <td>./datasets/ESC-50-master/audio/1-100032-A-0.wav</td>\n",
       "      <td>1</td>\n",
       "      <td>0</td>\n",
       "      <td>dog</td>\n",
       "      <td>True</td>\n",
       "      <td>100032</td>\n",
       "      <td>A</td>\n",
       "    </tr>\n",
       "    <tr>\n",
       "      <th>14</th>\n",
       "      <td>./datasets/ESC-50-master/audio/1-110389-A-0.wav</td>\n",
       "      <td>1</td>\n",
       "      <td>0</td>\n",
       "      <td>dog</td>\n",
       "      <td>True</td>\n",
       "      <td>110389</td>\n",
       "      <td>A</td>\n",
       "    </tr>\n",
       "    <tr>\n",
       "      <th>157</th>\n",
       "      <td>./datasets/ESC-50-master/audio/1-30226-A-0.wav</td>\n",
       "      <td>1</td>\n",
       "      <td>0</td>\n",
       "      <td>dog</td>\n",
       "      <td>True</td>\n",
       "      <td>30226</td>\n",
       "      <td>A</td>\n",
       "    </tr>\n",
       "    <tr>\n",
       "      <th>158</th>\n",
       "      <td>./datasets/ESC-50-master/audio/1-30344-A-0.wav</td>\n",
       "      <td>1</td>\n",
       "      <td>0</td>\n",
       "      <td>dog</td>\n",
       "      <td>True</td>\n",
       "      <td>30344</td>\n",
       "      <td>A</td>\n",
       "    </tr>\n",
       "    <tr>\n",
       "      <th>170</th>\n",
       "      <td>./datasets/ESC-50-master/audio/1-32318-A-0.wav</td>\n",
       "      <td>1</td>\n",
       "      <td>0</td>\n",
       "      <td>dog</td>\n",
       "      <td>True</td>\n",
       "      <td>32318</td>\n",
       "      <td>A</td>\n",
       "    </tr>\n",
       "    <tr>\n",
       "      <th>175</th>\n",
       "      <td>./datasets/ESC-50-master/audio/1-34094-A-5.wav</td>\n",
       "      <td>1</td>\n",
       "      <td>1</td>\n",
       "      <td>cat</td>\n",
       "      <td>False</td>\n",
       "      <td>34094</td>\n",
       "      <td>A</td>\n",
       "    </tr>\n",
       "    <tr>\n",
       "      <th>176</th>\n",
       "      <td>./datasets/ESC-50-master/audio/1-34094-B-5.wav</td>\n",
       "      <td>1</td>\n",
       "      <td>1</td>\n",
       "      <td>cat</td>\n",
       "      <td>False</td>\n",
       "      <td>34094</td>\n",
       "      <td>B</td>\n",
       "    </tr>\n",
       "    <tr>\n",
       "      <th>229</th>\n",
       "      <td>./datasets/ESC-50-master/audio/1-47819-A-5.wav</td>\n",
       "      <td>1</td>\n",
       "      <td>1</td>\n",
       "      <td>cat</td>\n",
       "      <td>False</td>\n",
       "      <td>47819</td>\n",
       "      <td>A</td>\n",
       "    </tr>\n",
       "    <tr>\n",
       "      <th>230</th>\n",
       "      <td>./datasets/ESC-50-master/audio/1-47819-B-5.wav</td>\n",
       "      <td>1</td>\n",
       "      <td>1</td>\n",
       "      <td>cat</td>\n",
       "      <td>False</td>\n",
       "      <td>47819</td>\n",
       "      <td>B</td>\n",
       "    </tr>\n",
       "    <tr>\n",
       "      <th>231</th>\n",
       "      <td>./datasets/ESC-50-master/audio/1-47819-C-5.wav</td>\n",
       "      <td>1</td>\n",
       "      <td>1</td>\n",
       "      <td>cat</td>\n",
       "      <td>False</td>\n",
       "      <td>47819</td>\n",
       "      <td>C</td>\n",
       "    </tr>\n",
       "  </tbody>\n",
       "</table>\n",
       "</div>"
      ],
      "text/plain": [
       "                                            filename  fold  target category  \\\n",
       "0    ./datasets/ESC-50-master/audio/1-100032-A-0.wav     1       0      dog   \n",
       "14   ./datasets/ESC-50-master/audio/1-110389-A-0.wav     1       0      dog   \n",
       "157   ./datasets/ESC-50-master/audio/1-30226-A-0.wav     1       0      dog   \n",
       "158   ./datasets/ESC-50-master/audio/1-30344-A-0.wav     1       0      dog   \n",
       "170   ./datasets/ESC-50-master/audio/1-32318-A-0.wav     1       0      dog   \n",
       "175   ./datasets/ESC-50-master/audio/1-34094-A-5.wav     1       1      cat   \n",
       "176   ./datasets/ESC-50-master/audio/1-34094-B-5.wav     1       1      cat   \n",
       "229   ./datasets/ESC-50-master/audio/1-47819-A-5.wav     1       1      cat   \n",
       "230   ./datasets/ESC-50-master/audio/1-47819-B-5.wav     1       1      cat   \n",
       "231   ./datasets/ESC-50-master/audio/1-47819-C-5.wav     1       1      cat   \n",
       "\n",
       "     esc10  src_file take  \n",
       "0     True    100032    A  \n",
       "14    True    110389    A  \n",
       "157   True     30226    A  \n",
       "158   True     30344    A  \n",
       "170   True     32318    A  \n",
       "175  False     34094    A  \n",
       "176  False     34094    B  \n",
       "229  False     47819    A  \n",
       "230  False     47819    B  \n",
       "231  False     47819    C  "
      ]
     },
     "execution_count": 12,
     "metadata": {},
     "output_type": "execute_result"
    }
   ],
   "source": [
    "my_classes = ['dog', 'cat']\n",
    "map_class_to_id = {'dog':0, 'cat':1}\n",
    "\n",
    "filtered_pd = pd_data[pd_data.category.isin(my_classes)]\n",
    "\n",
    "class_id = filtered_pd['category'].apply(lambda name: map_class_to_id[name])\n",
    "filtered_pd = filtered_pd.assign(target=class_id)\n",
    "\n",
    "full_path = filtered_pd['filename'].apply(lambda row: os.path.join(base_data_path, row))\n",
    "filtered_pd = filtered_pd.assign(filename=full_path)\n",
    "\n",
    "filtered_pd.head(10)"
   ]
  },
  {
   "cell_type": "markdown",
   "metadata": {
    "id": "BkDcBS-aJdCz"
   },
   "source": [
    "### Load the audio files and retrieve embeddings\n",
    "\n",
    "Here you'll apply the `load_wav_16k_mono` and prepare the WAV data for the model.\n",
    "\n",
    "When extracting embeddings from the WAV data, you get an array of shape `(N, 1024)`  where `N` is the number of frames that YAMNet found (one for every 0.48 seconds of audio)."
   ]
  },
  {
   "cell_type": "markdown",
   "metadata": {
    "id": "AKDT5RomaDKO"
   },
   "source": [
    "Your model will use each frame as one input. Therefore, you need to create a new column that has one frame per row. You also need to expand the labels and the `fold` column to proper reflect these new rows.\n",
    "\n",
    "The expanded `fold` column keeps the original values. You cannot mix frames because, when performing the splits, you might end up having parts of the same audio on different splits, which would make your validation and test steps less effective."
   ]
  },
  {
   "cell_type": "code",
   "execution_count": 13,
   "metadata": {
    "execution": {
     "iopub.execute_input": "2024-08-16T07:50:59.531772Z",
     "iopub.status.busy": "2024-08-16T07:50:59.531177Z",
     "iopub.status.idle": "2024-08-16T07:50:59.542994Z",
     "shell.execute_reply": "2024-08-16T07:50:59.542395Z"
    },
    "id": "u5Rq3_PyKLtU"
   },
   "outputs": [
    {
     "data": {
      "text/plain": [
       "(TensorSpec(shape=(), dtype=tf.string, name=None),\n",
       " TensorSpec(shape=(), dtype=tf.int64, name=None),\n",
       " TensorSpec(shape=(), dtype=tf.int64, name=None))"
      ]
     },
     "execution_count": 13,
     "metadata": {},
     "output_type": "execute_result"
    }
   ],
   "source": [
    "filenames = filtered_pd['filename']\n",
    "targets = filtered_pd['target']\n",
    "folds = filtered_pd['fold']\n",
    "\n",
    "main_ds = tf.data.Dataset.from_tensor_slices((filenames, targets, folds))\n",
    "main_ds.element_spec"
   ]
  },
  {
   "cell_type": "code",
   "execution_count": 14,
   "metadata": {
    "execution": {
     "iopub.execute_input": "2024-08-16T07:50:59.546293Z",
     "iopub.status.busy": "2024-08-16T07:50:59.545725Z",
     "iopub.status.idle": "2024-08-16T07:50:59.683862Z",
     "shell.execute_reply": "2024-08-16T07:50:59.683193Z"
    },
    "id": "rsEfovDVAHGY"
   },
   "outputs": [
    {
     "name": "stdout",
     "output_type": "stream",
     "text": [
      "WARNING:tensorflow:Using a while_loop for converting IO>AudioResample cause there is no registered converter for this op.\n"
     ]
    },
    {
     "name": "stderr",
     "output_type": "stream",
     "text": [
      "WARNING:tensorflow:Using a while_loop for converting IO>AudioResample cause there is no registered converter for this op.\n"
     ]
    },
    {
     "data": {
      "text/plain": [
       "(TensorSpec(shape=<unknown>, dtype=tf.float32, name=None),\n",
       " TensorSpec(shape=(), dtype=tf.int64, name=None),\n",
       " TensorSpec(shape=(), dtype=tf.int64, name=None))"
      ]
     },
     "execution_count": 14,
     "metadata": {},
     "output_type": "execute_result"
    }
   ],
   "source": [
    "def load_wav_for_map(filename, label, fold):\n",
    "  return load_wav_16k_mono(filename), label, fold\n",
    "\n",
    "main_ds = main_ds.map(load_wav_for_map)\n",
    "main_ds.element_spec"
   ]
  },
  {
   "cell_type": "code",
   "execution_count": 15,
   "metadata": {
    "execution": {
     "iopub.execute_input": "2024-08-16T07:50:59.687209Z",
     "iopub.status.busy": "2024-08-16T07:50:59.686616Z",
     "iopub.status.idle": "2024-08-16T07:50:59.858117Z",
     "shell.execute_reply": "2024-08-16T07:50:59.857512Z"
    },
    "id": "k0tG8DBNAHcE"
   },
   "outputs": [
    {
     "data": {
      "text/plain": [
       "(TensorSpec(shape=(1024,), dtype=tf.float32, name=None),\n",
       " TensorSpec(shape=(), dtype=tf.int64, name=None),\n",
       " TensorSpec(shape=(), dtype=tf.int64, name=None))"
      ]
     },
     "execution_count": 15,
     "metadata": {},
     "output_type": "execute_result"
    }
   ],
   "source": [
    "# applies the embedding extraction model to a wav data\n",
    "def extract_embedding(wav_data, label, fold):\n",
    "  ''' run YAMNet to extract embedding from the wav data '''\n",
    "  scores, embeddings, spectrogram = yamnet_model(wav_data)\n",
    "  num_embeddings = tf.shape(embeddings)[0]\n",
    "  return (embeddings,\n",
    "            tf.repeat(label, num_embeddings),\n",
    "            tf.repeat(fold, num_embeddings))\n",
    "\n",
    "# extract embedding\n",
    "main_ds = main_ds.map(extract_embedding).unbatch()\n",
    "main_ds.element_spec"
   ]
  },
  {
   "cell_type": "markdown",
   "metadata": {
    "id": "ZdfPIeD0Qedk"
   },
   "source": [
    "### Split the data\n",
    "\n",
    "You will use the `fold` column to split the dataset into train, validation and test sets.\n",
    "\n",
    "ESC-50 is arranged into five uniformly-sized cross-validation `fold`s, such that clips from the same original source are always in the same `fold` - find out more in the [ESC: Dataset for Environmental Sound Classification](https://www.karolpiczak.com/papers/Piczak2015-ESC-Dataset.pdf) paper.\n",
    "\n",
    "The last step is to remove the `fold` column from the dataset since you're not going to use it during training.\n"
   ]
  },
  {
   "cell_type": "code",
   "execution_count": 16,
   "metadata": {
    "execution": {
     "iopub.execute_input": "2024-08-16T07:50:59.861591Z",
     "iopub.status.busy": "2024-08-16T07:50:59.860989Z",
     "iopub.status.idle": "2024-08-16T07:50:59.942555Z",
     "shell.execute_reply": "2024-08-16T07:50:59.941901Z"
    },
    "id": "1ZYvlFiVsffC"
   },
   "outputs": [],
   "source": [
    "cached_ds = main_ds.cache()\n",
    "train_ds = cached_ds.filter(lambda embedding, label, fold: fold < 4)\n",
    "val_ds = cached_ds.filter(lambda embedding, label, fold: fold == 4)\n",
    "test_ds = cached_ds.filter(lambda embedding, label, fold: fold == 5)\n",
    "\n",
    "# remove the folds column now that it's not needed anymore\n",
    "remove_fold_column = lambda embedding, label, fold: (embedding, label)\n",
    "\n",
    "train_ds = train_ds.map(remove_fold_column)\n",
    "val_ds = val_ds.map(remove_fold_column)\n",
    "test_ds = test_ds.map(remove_fold_column)\n",
    "\n",
    "train_ds = train_ds.cache().shuffle(1000).batch(32).prefetch(tf.data.AUTOTUNE)\n",
    "val_ds = val_ds.cache().batch(32).prefetch(tf.data.AUTOTUNE)\n",
    "test_ds = test_ds.cache().batch(32).prefetch(tf.data.AUTOTUNE)"
   ]
  },
  {
   "cell_type": "markdown",
   "metadata": {
    "id": "v5PaMwvtcAIe"
   },
   "source": [
    "## Create your model\n",
    "\n",
    "You did most of the work!\n",
    "Next, define a very simple [Sequential](https://www.tensorflow.org/guide/keras/sequential_model) model with one hidden layer and two outputs to recognize cats and dogs from sounds.\n"
   ]
  },
  {
   "cell_type": "code",
   "execution_count": 17,
   "metadata": {
    "execution": {
     "iopub.execute_input": "2024-08-16T07:50:59.946354Z",
     "iopub.status.busy": "2024-08-16T07:50:59.945765Z",
     "iopub.status.idle": "2024-08-16T07:50:59.994118Z",
     "shell.execute_reply": "2024-08-16T07:50:59.993410Z"
    },
    "id": "JYCE0Fr1GpN3"
   },
   "outputs": [
    {
     "name": "stdout",
     "output_type": "stream",
     "text": [
      "Model: \"my_model\"\n"
     ]
    },
    {
     "name": "stdout",
     "output_type": "stream",
     "text": [
      "_________________________________________________________________\n"
     ]
    },
    {
     "name": "stdout",
     "output_type": "stream",
     "text": [
      " Layer (type)                Output Shape              Param #   \n"
     ]
    },
    {
     "name": "stdout",
     "output_type": "stream",
     "text": [
      "=================================================================\n"
     ]
    },
    {
     "name": "stdout",
     "output_type": "stream",
     "text": [
      " dense (Dense)               (None, 512)               524800    \n"
     ]
    },
    {
     "name": "stdout",
     "output_type": "stream",
     "text": [
      "                                                                 \n"
     ]
    },
    {
     "name": "stdout",
     "output_type": "stream",
     "text": [
      " dense_1 (Dense)             (None, 2)                 1026      \n"
     ]
    },
    {
     "name": "stdout",
     "output_type": "stream",
     "text": [
      "                                                                 \n"
     ]
    },
    {
     "name": "stdout",
     "output_type": "stream",
     "text": [
      "=================================================================\n"
     ]
    },
    {
     "name": "stdout",
     "output_type": "stream",
     "text": [
      "Total params: 525,826\n"
     ]
    },
    {
     "name": "stdout",
     "output_type": "stream",
     "text": [
      "Trainable params: 525,826\n"
     ]
    },
    {
     "name": "stdout",
     "output_type": "stream",
     "text": [
      "Non-trainable params: 0\n"
     ]
    },
    {
     "name": "stdout",
     "output_type": "stream",
     "text": [
      "_________________________________________________________________\n"
     ]
    }
   ],
   "source": [
    "my_model = tf.keras.Sequential([\n",
    "    tf.keras.layers.Input(shape=(1024), dtype=tf.float32,\n",
    "                          name='input_embedding'),\n",
    "    tf.keras.layers.Dense(512, activation='relu'),\n",
    "    tf.keras.layers.Dense(len(my_classes))\n",
    "], name='my_model')\n",
    "\n",
    "my_model.summary()"
   ]
  },
  {
   "cell_type": "code",
   "execution_count": 18,
   "metadata": {
    "execution": {
     "iopub.execute_input": "2024-08-16T07:50:59.999565Z",
     "iopub.status.busy": "2024-08-16T07:50:59.999084Z",
     "iopub.status.idle": "2024-08-16T07:51:00.012586Z",
     "shell.execute_reply": "2024-08-16T07:51:00.011992Z"
    },
    "id": "l1qgH35HY0SE"
   },
   "outputs": [],
   "source": [
    "my_model.compile(loss=tf.keras.losses.SparseCategoricalCrossentropy(from_logits=True),\n",
    "                 optimizer=\"adam\",\n",
    "                 metrics=['accuracy'])\n",
    "\n",
    "callback = tf.keras.callbacks.EarlyStopping(monitor='loss',\n",
    "                                            patience=3,\n",
    "                                            restore_best_weights=True)"
   ]
  },
  {
   "cell_type": "code",
   "execution_count": 19,
   "metadata": {
    "execution": {
     "iopub.execute_input": "2024-08-16T07:51:00.016205Z",
     "iopub.status.busy": "2024-08-16T07:51:00.015727Z",
     "iopub.status.idle": "2024-08-16T07:51:05.236993Z",
     "shell.execute_reply": "2024-08-16T07:51:05.236285Z"
    },
    "id": "T3sj84eOZ3pk"
   },
   "outputs": [
    {
     "name": "stdout",
     "output_type": "stream",
     "text": [
      "Epoch 1/20\n"
     ]
    },
    {
     "name": "stdout",
     "output_type": "stream",
     "text": [
      "\r\n",
      "      1/Unknown - 4s 4s/step - loss: 0.7612 - accuracy: 0.4688"
     ]
    },
    {
     "name": "stdout",
     "output_type": "stream",
     "text": [
      "\b\b\b\b\b\b\b\b\b\b\b\b\b\b\b\b\b\b\b\b\b\b\b\b\b\b\b\b\b\b\b\b\b\b\b\b\b\b\b\b\b\b\b\b\b\b\b\b\b\b\b\b\b\b\b\b\b\b\b\b\b\b\r\n",
      "     14/Unknown - 4s 4ms/step - loss: 0.8120 - accuracy: 0.8482"
     ]
    },
    {
     "name": "stdout",
     "output_type": "stream",
     "text": [
      "\b\b\b\b\b\b\b\b\b\b\b\b\b\b\b\b\b\b\b\b\b\b\b\b\b\b\b\b\b\b\b\b\b\b\b\b\b\b\b\b\b\b\b\b\b\b\b\b\b\b\b\b\b\b\b\b\b\b\b\b\b\b\b\r\n",
      "15/15 [==============================] - 5s 41ms/step - loss: 0.7740 - accuracy: 0.8479 - val_loss: 0.2178 - val_accuracy: 0.9125\n"
     ]
    },
    {
     "name": "stdout",
     "output_type": "stream",
     "text": [
      "Epoch 2/20\n"
     ]
    },
    {
     "name": "stdout",
     "output_type": "stream",
     "text": [
      "\r\n",
      " 1/15 [=>............................] - ETA: 0s - loss: 0.0733 - accuracy: 1.0000"
     ]
    },
    {
     "name": "stdout",
     "output_type": "stream",
     "text": [
      "\b\b\b\b\b\b\b\b\b\b\b\b\b\b\b\b\b\b\b\b\b\b\b\b\b\b\b\b\b\b\b\b\b\b\b\b\b\b\b\b\b\b\b\b\b\b\b\b\b\b\b\b\b\b\b\b\b\b\b\b\b\b\b\b\b\b\b\b\b\b\b\b\b\b\b\b\b\b\b\b\b\b\r\n",
      "15/15 [==============================] - ETA: 0s - loss: 0.2999 - accuracy: 0.8917"
     ]
    },
    {
     "name": "stdout",
     "output_type": "stream",
     "text": [
      "\b\b\b\b\b\b\b\b\b\b\b\b\b\b\b\b\b\b\b\b\b\b\b\b\b\b\b\b\b\b\b\b\b\b\b\b\b\b\b\b\b\b\b\b\b\b\b\b\b\b\b\b\b\b\b\b\b\b\b\b\b\b\b\b\b\b\b\b\b\b\b\b\b\b\b\b\b\b\b\b\b\b\r\n",
      "15/15 [==============================] - 0s 5ms/step - loss: 0.2999 - accuracy: 0.8917 - val_loss: 0.1892 - val_accuracy: 0.9187\n"
     ]
    },
    {
     "name": "stdout",
     "output_type": "stream",
     "text": [
      "Epoch 3/20\n"
     ]
    },
    {
     "name": "stdout",
     "output_type": "stream",
     "text": [
      "\r\n",
      " 1/15 [=>............................] - ETA: 0s - loss: 0.2268 - accuracy: 0.8125"
     ]
    },
    {
     "name": "stdout",
     "output_type": "stream",
     "text": [
      "\b\b\b\b\b\b\b\b\b\b\b\b\b\b\b\b\b\b\b\b\b\b\b\b\b\b\b\b\b\b\b\b\b\b\b\b\b\b\b\b\b\b\b\b\b\b\b\b\b\b\b\b\b\b\b\b\b\b\b\b\b\b\b\b\b\b\b\b\b\b\b\b\b\b\b\b\b\b\b\b\b\b\r\n",
      "15/15 [==============================] - 0s 5ms/step - loss: 0.3008 - accuracy: 0.8958 - val_loss: 0.2612 - val_accuracy: 0.9187\n"
     ]
    },
    {
     "name": "stdout",
     "output_type": "stream",
     "text": [
      "Epoch 4/20\n"
     ]
    },
    {
     "name": "stdout",
     "output_type": "stream",
     "text": [
      "\r\n",
      " 1/15 [=>............................] - ETA: 0s - loss: 0.1377 - accuracy: 0.9688"
     ]
    },
    {
     "name": "stdout",
     "output_type": "stream",
     "text": [
      "\b\b\b\b\b\b\b\b\b\b\b\b\b\b\b\b\b\b\b\b\b\b\b\b\b\b\b\b\b\b\b\b\b\b\b\b\b\b\b\b\b\b\b\b\b\b\b\b\b\b\b\b\b\b\b\b\b\b\b\b\b\b\b\b\b\b\b\b\b\b\b\b\b\b\b\b\b\b\b\b\b\b\r\n",
      "15/15 [==============================] - 0s 5ms/step - loss: 0.4578 - accuracy: 0.9187 - val_loss: 0.2650 - val_accuracy: 0.9125\n"
     ]
    },
    {
     "name": "stdout",
     "output_type": "stream",
     "text": [
      "Epoch 5/20\n"
     ]
    },
    {
     "name": "stdout",
     "output_type": "stream",
     "text": [
      "\r\n",
      " 1/15 [=>............................] - ETA: 0s - loss: 0.1726 - accuracy: 0.9062"
     ]
    },
    {
     "name": "stdout",
     "output_type": "stream",
     "text": [
      "\b\b\b\b\b\b\b\b\b\b\b\b\b\b\b\b\b\b\b\b\b\b\b\b\b\b\b\b\b\b\b\b\b\b\b\b\b\b\b\b\b\b\b\b\b\b\b\b\b\b\b\b\b\b\b\b\b\b\b\b\b\b\b\b\b\b\b\b\b\b\b\b\b\b\b\b\b\b\b\b\b\b\r\n",
      "15/15 [==============================] - 0s 5ms/step - loss: 0.7745 - accuracy: 0.9187 - val_loss: 1.2726 - val_accuracy: 0.8750\n"
     ]
    }
   ],
   "source": [
    "history = my_model.fit(train_ds,\n",
    "                       epochs=20,\n",
    "                       validation_data=val_ds,\n",
    "                       callbacks=callback)"
   ]
  },
  {
   "cell_type": "markdown",
   "metadata": {
    "id": "OAbraYKYpdoE"
   },
   "source": [
    "Let's run the `evaluate` method on the test data just to be sure there's no overfitting."
   ]
  },
  {
   "cell_type": "code",
   "execution_count": 20,
   "metadata": {
    "execution": {
     "iopub.execute_input": "2024-08-16T07:51:05.241173Z",
     "iopub.status.busy": "2024-08-16T07:51:05.240522Z",
     "iopub.status.idle": "2024-08-16T07:51:05.396368Z",
     "shell.execute_reply": "2024-08-16T07:51:05.395694Z"
    },
    "id": "H4Nh5nec3Sky"
   },
   "outputs": [
    {
     "name": "stdout",
     "output_type": "stream",
     "text": [
      "\r\n",
      "      1/Unknown - 0s 126ms/step - loss: 0.2066 - accuracy: 0.9062"
     ]
    },
    {
     "name": "stdout",
     "output_type": "stream",
     "text": [
      "\b\b\b\b\b\b\b\b\b\b\b\b\b\b\b\b\b\b\b\b\b\b\b\b\b\b\b\b\b\b\b\b\b\b\b\b\b\b\b\b\b\b\b\b\b\b\b\b\b\b\b\b\b\b\b\b\b\b\b\b\b\b\b\b\b\r\n",
      "5/5 [==============================] - 0s 5ms/step - loss: 0.2313 - accuracy: 0.8875\n"
     ]
    },
    {
     "name": "stdout",
     "output_type": "stream",
     "text": [
      "Loss:  0.23130321502685547\n",
      "Accuracy:  0.887499988079071\n"
     ]
    }
   ],
   "source": [
    "loss, accuracy = my_model.evaluate(test_ds)\n",
    "\n",
    "print(\"Loss: \", loss)\n",
    "print(\"Accuracy: \", accuracy)"
   ]
  },
  {
   "cell_type": "markdown",
   "metadata": {
    "id": "cid-qIrIpqHS"
   },
   "source": [
    "You did it!"
   ]
  },
  {
   "cell_type": "markdown",
   "metadata": {
    "id": "nCKZonrJcXab"
   },
   "source": [
    "## Test your model\n",
    "\n",
    "Next, try your model on the embedding from the previous test using YAMNet only.\n"
   ]
  },
  {
   "cell_type": "code",
   "execution_count": 21,
   "metadata": {
    "execution": {
     "iopub.execute_input": "2024-08-16T07:51:05.400243Z",
     "iopub.status.busy": "2024-08-16T07:51:05.399645Z",
     "iopub.status.idle": "2024-08-16T07:51:05.435290Z",
     "shell.execute_reply": "2024-08-16T07:51:05.434260Z"
    },
    "id": "79AFpA3_ctCF"
   },
   "outputs": [
    {
     "name": "stdout",
     "output_type": "stream",
     "text": [
      "The main sound is: cat\n"
     ]
    }
   ],
   "source": [
    "scores, embeddings, spectrogram = yamnet_model(testing_wav_data)\n",
    "result = my_model(embeddings).numpy()\n",
    "\n",
    "inferred_class = my_classes[result.mean(axis=0).argmax()]\n",
    "print(f'The main sound is: {inferred_class}')"
   ]
  },
  {
   "cell_type": "markdown",
   "metadata": {
    "id": "k2yleeev645r"
   },
   "source": [
    "## Save a model that can directly take a WAV file as input\n",
    "\n",
    "Your model works when you give it the embeddings as input.\n",
    "\n",
    "In a real-world scenario, you'll want to use audio data as a direct input.\n",
    "\n",
    "To do that, you will combine YAMNet with your model into a single model that you can export for other applications.\n",
    "\n",
    "To make it easier to use the model's result, the final layer will be a `reduce_mean` operation. When using this model for serving (which you will learn about later in the tutorial), you will need the name of the final layer. If you don't define one, TensorFlow will auto-define an incremental one that makes it hard to test, as it will keep changing every time you train the model. When using a raw TensorFlow operation, you can't assign a name to it. To address this issue, you'll create a custom layer that applies `reduce_mean` and call it `'classifier'`.\n"
   ]
  },
  {
   "cell_type": "code",
   "execution_count": 22,
   "metadata": {
    "execution": {
     "iopub.execute_input": "2024-08-16T07:51:05.439252Z",
     "iopub.status.busy": "2024-08-16T07:51:05.438627Z",
     "iopub.status.idle": "2024-08-16T07:51:05.443112Z",
     "shell.execute_reply": "2024-08-16T07:51:05.442362Z"
    },
    "id": "QUVCI2Suunpw"
   },
   "outputs": [],
   "source": [
    "class ReduceMeanLayer(tf.keras.layers.Layer):\n",
    "  def __init__(self, axis=0, **kwargs):\n",
    "    super(ReduceMeanLayer, self).__init__(**kwargs)\n",
    "    self.axis = axis\n",
    "\n",
    "  def call(self, input):\n",
    "    return tf.math.reduce_mean(input, axis=self.axis)"
   ]
  },
  {
   "cell_type": "code",
   "execution_count": 23,
   "metadata": {
    "execution": {
     "iopub.execute_input": "2024-08-16T07:51:05.446747Z",
     "iopub.status.busy": "2024-08-16T07:51:05.446130Z",
     "iopub.status.idle": "2024-08-16T07:51:15.010478Z",
     "shell.execute_reply": "2024-08-16T07:51:15.009684Z"
    },
    "id": "zE_Npm0nzlwc"
   },
   "outputs": [
    {
     "name": "stdout",
     "output_type": "stream",
     "text": [
      "WARNING:tensorflow:Compiled the loaded model, but the compiled metrics have yet to be built. `model.compile_metrics` will be empty until you train or evaluate the model.\n"
     ]
    },
    {
     "name": "stderr",
     "output_type": "stream",
     "text": [
      "WARNING:tensorflow:Compiled the loaded model, but the compiled metrics have yet to be built. `model.compile_metrics` will be empty until you train or evaluate the model.\n"
     ]
    },
    {
     "name": "stderr",
     "output_type": "stream",
     "text": [
      "WARNING:absl:Found untraced functions such as _update_step_xla while saving (showing 1 of 1). These functions will not be directly callable after loading.\n"
     ]
    },
    {
     "name": "stdout",
     "output_type": "stream",
     "text": [
      "INFO:tensorflow:Assets written to: ./dogs_and_cats_yamnet/assets\n"
     ]
    },
    {
     "name": "stderr",
     "output_type": "stream",
     "text": [
      "INFO:tensorflow:Assets written to: ./dogs_and_cats_yamnet/assets\n"
     ]
    }
   ],
   "source": [
    "saved_model_path = './dogs_and_cats_yamnet'\n",
    "\n",
    "input_segment = tf.keras.layers.Input(shape=(), dtype=tf.float32, name='audio')\n",
    "embedding_extraction_layer = hub.KerasLayer(yamnet_model_handle,\n",
    "                                            trainable=False, name='yamnet')\n",
    "_, embeddings_output, _ = embedding_extraction_layer(input_segment)\n",
    "serving_outputs = my_model(embeddings_output)\n",
    "serving_outputs = ReduceMeanLayer(axis=0, name='classifier')(serving_outputs)\n",
    "serving_model = tf.keras.Model(input_segment, serving_outputs)\n",
    "serving_model.save(saved_model_path, include_optimizer=False)"
   ]
  },
  {
   "cell_type": "code",
   "execution_count": 24,
   "metadata": {
    "execution": {
     "iopub.execute_input": "2024-08-16T07:51:15.014940Z",
     "iopub.status.busy": "2024-08-16T07:51:15.014649Z",
     "iopub.status.idle": "2024-08-16T07:51:15.156430Z",
     "shell.execute_reply": "2024-08-16T07:51:15.155108Z"
    },
    "id": "y-0bY5FMme1C"
   },
   "outputs": [
    {
     "data": {
      "image/png": "[encoded data removed]",
      "text/plain": [
       "<IPython.core.display.Image object>"
      ]
     },
     "execution_count": 24,
     "metadata": {},
     "output_type": "execute_result"
    }
   ],
   "source": [
    "tf.keras.utils.plot_model(serving_model)"
   ]
  },
  {
   "cell_type": "markdown",
   "metadata": {
    "id": "btHQDN9mqxM_"
   },
   "source": [
    "Load your saved model to verify that it works as expected."
   ]
  },
  {
   "cell_type": "code",
   "execution_count": 25,
   "metadata": {
    "execution": {
     "iopub.execute_input": "2024-08-16T07:51:15.161011Z",
     "iopub.status.busy": "2024-08-16T07:51:15.160428Z",
     "iopub.status.idle": "2024-08-16T07:51:20.187458Z",
     "shell.execute_reply": "2024-08-16T07:51:20.186733Z"
    },
    "id": "KkYVpJS72WWB"
   },
   "outputs": [],
   "source": [
    "reloaded_model = tf.saved_model.load(saved_model_path)"
   ]
  },
  {
   "cell_type": "markdown",
   "metadata": {
    "id": "4BkmvvNzq49l"
   },
   "source": [
    "And for the final test: given some sound data, does your model return the correct result?"
   ]
  },
  {
   "cell_type": "code",
   "execution_count": 26,
   "metadata": {
    "execution": {
     "iopub.execute_input": "2024-08-16T07:51:20.191625Z",
     "iopub.status.busy": "2024-08-16T07:51:20.191377Z",
     "iopub.status.idle": "2024-08-16T07:51:20.480407Z",
     "shell.execute_reply": "2024-08-16T07:51:20.479528Z"
    },
    "id": "xeXtD5HO28y-"
   },
   "outputs": [
    {
     "name": "stdout",
     "output_type": "stream",
     "text": [
      "The main sound is: cat\n"
     ]
    }
   ],
   "source": [
    "reloaded_results = reloaded_model(testing_wav_data)\n",
    "cat_or_dog = my_classes[tf.math.argmax(reloaded_results)]\n",
    "print(f'The main sound is: {cat_or_dog}')"
   ]
  },
  {
   "cell_type": "markdown",
   "metadata": {
    "id": "ZRrOcBYTUgwn"
   },
   "source": [
    "If you want to try your new model on a serving setup, you can use the 'serving_default' signature."
   ]
  },
  {
   "cell_type": "code",
   "execution_count": 27,
   "metadata": {
    "execution": {
     "iopub.execute_input": "2024-08-16T07:51:20.484508Z",
     "iopub.status.busy": "2024-08-16T07:51:20.483890Z",
     "iopub.status.idle": "2024-08-16T07:51:20.687532Z",
     "shell.execute_reply": "2024-08-16T07:51:20.686494Z"
    },
    "id": "ycC8zzDSUG2s"
   },
   "outputs": [
    {
     "name": "stdout",
     "output_type": "stream",
     "text": [
      "The main sound is: cat\n"
     ]
    }
   ],
   "source": [
    "serving_results = reloaded_model.signatures['serving_default'](testing_wav_data)\n",
    "cat_or_dog = my_classes[tf.math.argmax(serving_results['classifier'])]\n",
    "print(f'The main sound is: {cat_or_dog}')\n"
   ]
  },
  {
   "cell_type": "markdown",
   "metadata": {
    "id": "da7blblCHs8c"
   },
   "source": [
    "## (Optional) Some more testing\n",
    "\n",
    "The model is ready.\n",
    "\n",
    "Let's compare it to YAMNet on the test dataset."
   ]
  },
  {
   "cell_type": "code",
   "execution_count": 28,
   "metadata": {
    "execution": {
     "iopub.execute_input": "2024-08-16T07:51:20.691623Z",
     "iopub.status.busy": "2024-08-16T07:51:20.691089Z",
     "iopub.status.idle": "2024-08-16T07:51:21.155976Z",
     "shell.execute_reply": "2024-08-16T07:51:21.155227Z"
    },
    "id": "vDf5MASIIN1z"
   },
   "outputs": [
    {
     "name": "stdout",
     "output_type": "stream",
     "text": [
      "./datasets/ESC-50-master/audio/5-203128-A-0.wav\n",
      "WARNING:tensorflow:Using a while_loop for converting IO>AudioResample cause there is no registered converter for this op.\n"
     ]
    },
    {
     "name": "stderr",
     "output_type": "stream",
     "text": [
      "WARNING:tensorflow:Using a while_loop for converting IO>AudioResample cause there is no registered converter for this op.\n"
     ]
    },
    {
     "name": "stdout",
     "output_type": "stream",
     "text": [
      "Waveform values: [-5.1828759e-09  1.5151235e-08 -1.1082188e-08 ...  4.9873297e-03\n",
      "  5.2141696e-03  4.2495923e-03]\n"
     ]
    },
    {
     "data": {
      "text/html": [
       "\n",
       "                <audio  controls=\"controls\" >\n",
       "                    <source src=\"data:audio/wav;base64,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\" type=\"audio/wav\" />\n",
       "                    Your browser does not support the audio element.\n",
       "                </audio>\n",
       "              "
      ],
      "text/plain": [
       "<IPython.lib.display.Audio object>"
      ]
     },
     "execution_count": 28,
     "metadata": {},
     "output_type": "execute_result"
    },
    {
     "data": {
      "image/png": "[encoded data removed]",
      "text/plain": [
       "<Figure size 640x480 with 1 Axes>"
      ]
     },
     "metadata": {},
     "output_type": "display_data"
    }
   ],
   "source": [
    "test_pd = filtered_pd.loc[filtered_pd['fold'] == 5]\n",
    "row = test_pd.sample(1)\n",
    "filename = row['filename'].item()\n",
    "print(filename)\n",
    "waveform = load_wav_16k_mono(filename)\n",
    "print(f'Waveform values: {waveform}')\n",
    "_ = plt.plot(waveform)\n",
    "\n",
    "display.Audio(waveform, rate=16000)"
   ]
  },
  {
   "cell_type": "code",
   "execution_count": 29,
   "metadata": {
    "execution": {
     "iopub.execute_input": "2024-08-16T07:51:21.159482Z",
     "iopub.status.busy": "2024-08-16T07:51:21.159224Z",
     "iopub.status.idle": "2024-08-16T07:51:21.459287Z",
     "shell.execute_reply": "2024-08-16T07:51:21.458558Z"
    },
    "id": "eYUzFxYJIcE1"
   },
   "outputs": [
    {
     "name": "stdout",
     "output_type": "stream",
     "text": [
      "[YAMNet] The main sound is: Animal (0.9544865489006042)\n"
     ]
    },
    {
     "name": "stdout",
     "output_type": "stream",
     "text": [
      "[Your model] The main sound is: dog (0.9998296499252319)\n"
     ]
    }
   ],
   "source": [
    "# Run the model, check the output.\n",
    "scores, embeddings, spectrogram = yamnet_model(waveform)\n",
    "class_scores = tf.reduce_mean(scores, axis=0)\n",
    "top_class = tf.math.argmax(class_scores)\n",
    "inferred_class = class_names[top_class]\n",
    "top_score = class_scores[top_class]\n",
    "print(f'[YAMNet] The main sound is: {inferred_class} ({top_score})')\n",
    "\n",
    "reloaded_results = reloaded_model(waveform)\n",
    "your_top_class = tf.math.argmax(reloaded_results)\n",
    "your_inferred_class = my_classes[your_top_class]\n",
    "class_probabilities = tf.nn.softmax(reloaded_results, axis=-1)\n",
    "your_top_score = class_probabilities[your_top_class]\n",
    "print(f'[Your model] The main sound is: {your_inferred_class} ({your_top_score})')"
   ]
  },
  {
   "cell_type": "markdown",
   "metadata": {
    "id": "g8Tsym8Rq-0V"
   },
   "source": [
    "## Next steps\n",
    "\n",
    "You have created a model that can classify sounds from dogs or cats. With the same idea and a different dataset you can try, for example, building an [acoustic identifier of birds](https://www.kaggle.com/c/birdclef-2021/) based on their singing.\n",
    "\n",
    "Share your project with the TensorFlow team on social media!\n"
   ]
  }
 ],
 "metadata": {
  "accelerator": "GPU",
  "colab": {
   "collapsed_sections": [],
   "name": "transfer_learning_audio.ipynb",
   "toc_visible": true
  },
  "kernelspec": {
   "display_name": ".venv",
   "language": "python",
   "name": "python3"
  },
  "language_info": {
   "codemirror_mode": {
    "name": "ipython",
    "version": 3
   },
   "file_extension": ".py",
   "mimetype": "text/x-python",
   "name": "python",
   "nbconvert_exporter": "python",
   "pygments_lexer": "ipython3",
   "version": "3.12.3"
  }
 },
 "nbformat": 4,
 "nbformat_minor": 0
}
